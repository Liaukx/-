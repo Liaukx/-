{
 "cells": [
  {
   "cell_type": "markdown",
   "metadata": {},
   "source": [
    "# 匈牙利算法\n",
    "* 官方文档\n",
    "* https://docs.scipy.org/doc/scipy/reference/generated/scipy.optimize.linear_sum_assignment.html#scipy.optimize.linear_sum_assignment"
   ]
  },
  {
   "cell_type": "code",
   "execution_count": null,
   "metadata": {},
   "outputs": [],
   "source": [
    "import numpy as np\n",
    "from scipy.optimize import linear_sum_assignment\n",
    "# 代价矩阵\n",
    "cost = np.array([[4, 1, 3], [2, 0, 5], [3, 2, 2]])\n",
    "# 指派方案的求解\n",
    "row_ind, col_ind = linear_sum_assignment(cost)\n",
    "# 指派开销\n",
    "cost[row_ind, col_ind].sum()\n",
    "\n",
    "print(row_ind)\n",
    "print(col_ind)\n",
    "print(cost)"
   ]
  }
 ],
 "metadata": {
  "interpreter": {
   "hash": "b26237669fb82f55901c81719d6b1a1c6f49e3c8345e7550e9986512a5b1f1dc"
  },
  "kernelspec": {
   "display_name": "Python 3.10.0 ('nlp')",
   "language": "python",
   "name": "python3"
  },
  "language_info": {
   "codemirror_mode": {
    "name": "ipython",
    "version": 3
   },
   "file_extension": ".py",
   "mimetype": "text/x-python",
   "name": "python",
   "nbconvert_exporter": "python",
   "pygments_lexer": "ipython3",
   "version": "3.10.0"
  },
  "orig_nbformat": 4
 },
 "nbformat": 4,
 "nbformat_minor": 2
}
