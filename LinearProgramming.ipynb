{
 "cells": [
  {
   "cell_type": "markdown",
   "metadata": {},
   "source": [
    "# 安装scipy\n",
    "* scipy.optimize.linprog 线性规划问题官方文档\n",
    "  * https://docs.scipy.org/doc/scipy/tutorial/optimize.html?highlight=linear%20programming#linear-programming-example\n",
    "* 其中单纯形法源码\n",
    "  * https://github.com/scipy/scipy/blob/b74c192aab55422d52589cf0023d9b3bfb5d136b/scipy/optimize/_linprog_simplex.py#L438\n",
    "* linprog 只能解决**最小化目标函数**的问题 min $$c^Tx$$\n",
    "* 约束条件是 <= $$Ax<= b$$\n"
   ]
  },
  {
   "cell_type": "code",
   "execution_count": 2,
   "metadata": {},
   "outputs": [],
   "source": [
    "# 需要的包，用法看官网例子\n",
    "import numpy as np\n",
    "from scipy.optimize import linprog"
   ]
  },
  {
   "cell_type": "code",
   "execution_count": 6,
   "metadata": {},
   "outputs": [
    {
     "name": "stdout",
     "output_type": "stream",
     "text": [
      "     con: array([], dtype=float64)\n",
      "     fun: -49.99999999984171\n",
      " message: 'Optimization terminated successfully.'\n",
      "     nit: 5\n",
      "   slack: array([5.00000000e+00, 5.42961232e-11])\n",
      "  status: 0\n",
      " success: True\n",
      "       x: array([5.00000000e+00, 8.90755279e-13, 4.24125822e-11])\n"
     ]
    }
   ],
   "source": [
    "c = np.array([-10,-1,-2])\n",
    "A = np.array([[1,1,2],[4,1,1]])\n",
    "b = np.array([10,20])\n",
    "x1_bound = (0,None)\n",
    "x2_bound = (0,None)\n",
    "x3_bound = (0,None)\n",
    "bounds = [x1_bound,x2_bound,x3_bound]\n",
    "result = linprog(c,A,b,bounds = bounds)\n",
    "print(result)"
   ]
  },
  {
   "cell_type": "markdown",
   "metadata": {},
   "source": [
    "* 表达负无穷的方式：-np.inf\n",
    "* 正无穷: None"
   ]
  }
 ],
 "metadata": {
  "interpreter": {
   "hash": "18971e19cd97d437897f89a4050b06dc3fe2bc0b3d9ace86632b37c80abdc31f"
  },
  "kernelspec": {
   "display_name": "Python 3.10.0 ('nlp')",
   "language": "python",
   "name": "python3"
  },
  "language_info": {
   "codemirror_mode": {
    "name": "ipython",
    "version": 3
   },
   "file_extension": ".py",
   "mimetype": "text/x-python",
   "name": "python",
   "nbconvert_exporter": "python",
   "pygments_lexer": "ipython3",
   "version": "3.10.0"
  },
  "orig_nbformat": 4
 },
 "nbformat": 4,
 "nbformat_minor": 2
}
