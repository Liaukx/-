{
 "cells": [
  {
   "cell_type": "markdown",
   "metadata": {},
   "source": [
    "# 整数规划/线性规划 PuLP\n",
    "* pip install pulp\n",
    "* 源码\n",
    "  * https://github.com/coin-or/pulp\n",
    "* https://www.cnblogs.com/youcans/p/14714085.html\n",
    "* 官方文档\n",
    "  * https://coin-or.github.io/pulp/CaseStudies/a_two_stage_production_planning_problem.html"
   ]
  },
  {
   "cell_type": "markdown",
   "metadata": {},
   "source": [
    "# 一个0-1规划的例子"
   ]
  },
  {
   "cell_type": "code",
   "execution_count": 4,
   "metadata": {},
   "outputs": [
    {
     "name": "stdout",
     "output_type": "stream",
     "text": [
      "x1 = 0.0\n",
      "x2 = 0.0\n",
      "x3 = 1.0\n",
      "x4 = 1.0\n",
      "x5 = 1.0\n",
      "z(x)= 6.0\n"
     ]
    }
   ],
   "source": [
    "import pulp\n",
    "# 定义规划问题\n",
    "    # 第一个参数 模型名字，第二个参数目标函数\n",
    "Integer_P = pulp.LpProblem('name',sense = pulp.LpMaximize)\n",
    "\n",
    "# 定义决策变量\n",
    "    #cat，Continuous 连续变量，Integer 整数规划， Binary 0.1规划\n",
    "x1 = pulp.LpVariable('x1',cat='Binary')\n",
    "x2 = pulp.LpVariable('x2',cat='Binary')\n",
    "x3 = pulp.LpVariable('x3',cat='Binary')\n",
    "x4 = pulp.LpVariable('x4',cat='Binary')\n",
    "x5 = pulp.LpVariable('x5',cat='Binary')\n",
    "\n",
    "#添加目标函数\n",
    "Integer_P += (2*x1 - x2 + 5*x3 -3*x4 + 4*x5)\n",
    "\n",
    "# 添加约束\n",
    "Integer_P += (3*x1 - 2*x2 + 7*x3 - 5*x4 + 4*x5 <= 6)\n",
    "Integer_P += (x1 - x2 + 2*x3 - 4*x4 + 2*x5 <= 0)\n",
    "\n",
    "# 求解\n",
    "Integer_P.solve()\n",
    "\n",
    "# 输出\n",
    "    #输出最优解\n",
    "for iter in Integer_P.variables():\n",
    "    print(iter.name ,'=',iter.varValue)\n",
    "    # 输出目标函数值\n",
    "print ('z(x)=',pulp.value(Integer_P.objective))"
   ]
  }
 ],
 "metadata": {
  "interpreter": {
   "hash": "18971e19cd97d437897f89a4050b06dc3fe2bc0b3d9ace86632b37c80abdc31f"
  },
  "kernelspec": {
   "display_name": "Python 3.10.0 ('nlp')",
   "language": "python",
   "name": "python3"
  },
  "language_info": {
   "codemirror_mode": {
    "name": "ipython",
    "version": 3
   },
   "file_extension": ".py",
   "mimetype": "text/x-python",
   "name": "python",
   "nbconvert_exporter": "python",
   "pygments_lexer": "ipython3",
   "version": "3.10.0"
  },
  "orig_nbformat": 4
 },
 "nbformat": 4,
 "nbformat_minor": 2
}
