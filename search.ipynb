{
 "cells": [
  {
   "cell_type": "markdown",
   "metadata": {},
   "source": [
    "# 线搜索法\n",
    "* 0.168法基本思想\n",
    "  * f(x)[a,b]两个割点\n",
    "  \n",
    "   $\\alpha = a + (1-0.618) * (b - a)$\n",
    "\n",
    "   $\\beta = a + 0.618 * (b - a)$\n",
    "\n",
    "   * 保证收缩的区间里包含$min(f(\\alpha),f(\\beta))$\n",
    "  \n",
    "   * 终止条件$\\frac{end - start}{2} < precision$"
   ]
  },
  {
   "cell_type": "code",
   "execution_count": 1,
   "metadata": {},
   "outputs": [
    {
     "name": "stdout",
     "output_type": "stream",
     "text": [
      "alpha = 0.236\n",
      "beta = -0.236\n",
      "f(alpha) = -1.125\n",
      "f(beta) = -0.653\n",
      "\n",
      "alpha = 0.528\n",
      "beta = 0.236\n",
      "f(alpha) = -0.971\n",
      "f(beta) = -1.125\n",
      "\n",
      "alpha = 0.236\n",
      "beta = 0.056\n",
      "f(alpha) = -1.125\n",
      "f(beta) = -1.050\n",
      "\n",
      "alpha = 0.348\n",
      "beta = 0.236\n",
      "f(alpha) = -1.106\n",
      "f(beta) = -1.125\n",
      "\n",
      "alpha = 0.236\n",
      "beta = 0.167\n",
      "f(alpha) = -1.125\n",
      "f(beta) = -1.111\n",
      "\n",
      "alpha = 0.279\n",
      "beta = 0.236\n",
      "f(alpha) = -1.123\n",
      "f(beta) = -1.125\n",
      "\n",
      "0.167 \t0.279\n",
      "0.223\t-1.124\n"
     ]
    }
   ],
   "source": [
    "# 黄金分割法\n",
    "def fun(x):\n",
    "    return 2 * x * x - x - 1\n",
    "\n",
    "def golden(start,end,precision):\n",
    "    if (end - start)/2 < precision :\n",
    "        return start,end\n",
    "    alpha = start + (end - start) * 0.618\n",
    "    beta = start + (end - start) * 0.382\n",
    "    # print('alpha = ' + str( '%.3f' %alpha))\n",
    "    # print('beta = ' + str( '%.3f' %beta))\n",
    "    # print('f(alpha) = ' + str( '%.3f' %fun(alpha)))\n",
    "    # print('f(beta) = ' + str( '%.3f' %fun(beta)) + '\\n')\n",
    "    \n",
    "    # 基本思想，保证更优的点在缩小了的区间里\n",
    "    if fun(alpha) <= fun(beta):\n",
    "        return golden(beta,end,precision)\n",
    "    else:\n",
    "        return golden(start,alpha,precision)\n",
    "\n",
    "start ,end = golden(-1,1,0.06)\n",
    "# start = \n",
    "print('%.3f'%start, '\\t%.3f'%end)\n",
    "# print(type(start))\n",
    "print('%.3f'% ((start + end)/2.) + '\\t' + '%.3f'% (fun((start + end)/2.)))\n",
    "\n"
   ]
  },
  {
   "cell_type": "code",
   "execution_count": 10,
   "metadata": {},
   "outputs": [
    {
     "name": "stdout",
     "output_type": "stream",
     "text": [
      "-2.2817\t1.8394\n",
      "-2.9042\t1.6340\n",
      "-3.0457\t1.6097\n",
      "-3.0472\t1.6094\n"
     ]
    },
    {
     "data": {
      "text/plain": [
       "1.6094379569211454"
      ]
     },
     "execution_count": 10,
     "metadata": {},
     "output_type": "execute_result"
    }
   ],
   "source": [
    "# 牛顿法\n",
    "import math\n",
    "def fun(x):\n",
    "    f = math.e**x - 5*x\n",
    "    df = math.e**x - 5\n",
    "    d2f = math.e**x \n",
    "    return f,df,d2f\n",
    "\n",
    "\n",
    "def Newton(start,precions):\n",
    "    f,df,d2f = fun(start)\n",
    "    if abs(df) < precions :\n",
    "        return start\n",
    "    print( '%.4f'%(f) + '\\t%.4f'%(start - df/d2f) )\n",
    "    return Newton(start - df/d2f,precions)\n",
    "\n",
    "Newton(1,1e-3)\n"
   ]
  },
  {
   "cell_type": "code",
   "execution_count": null,
   "metadata": {},
   "outputs": [],
   "source": []
  }
 ],
 "metadata": {
  "interpreter": {
   "hash": "b26237669fb82f55901c81719d6b1a1c6f49e3c8345e7550e9986512a5b1f1dc"
  },
  "kernelspec": {
   "display_name": "Python 3.10.0 ('nlp')",
   "language": "python",
   "name": "python3"
  },
  "language_info": {
   "codemirror_mode": {
    "name": "ipython",
    "version": 3
   },
   "file_extension": ".py",
   "mimetype": "text/x-python",
   "name": "python",
   "nbconvert_exporter": "python",
   "pygments_lexer": "ipython3",
   "version": "3.10.0"
  },
  "orig_nbformat": 4
 },
 "nbformat": 4,
 "nbformat_minor": 2
}
