{
 "cells": [
  {
   "cell_type": "markdown",
   "metadata": {},
   "source": [
    "# 线性多目标规划\n",
    "* https://www.supplychaindataanalytics.com/multi-objective-linear-optimization-with-pulp-in-python/\n",
    "* https://www.supplychaindataanalytics.com/multi-objective-linear-optimization-with-weighted-sub-problems-using-pulp-in-python/\n",
    "  "
   ]
  }
 ],
 "metadata": {
  "language_info": {
   "name": "python"
  },
  "orig_nbformat": 4
 },
 "nbformat": 4,
 "nbformat_minor": 2
}
